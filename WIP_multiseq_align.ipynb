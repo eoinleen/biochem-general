{
  "nbformat": 4,
  "nbformat_minor": 0,
  "metadata": {
    "colab": {
      "provenance": [],
      "mount_file_id": "1PUhbazyTB0t1LtgtxID31rkk3stRTXd4",
      "authorship_tag": "ABX9TyMZELQpuLkCt2ZBJJvJ9hIz",
      "include_colab_link": true
    },
    "kernelspec": {
      "name": "python3",
      "display_name": "Python 3"
    },
    "language_info": {
      "name": "python"
    }
  },
  "cells": [
    {
      "cell_type": "markdown",
      "metadata": {
        "id": "view-in-github",
        "colab_type": "text"
      },
      "source": [
        "<a href=\"https://colab.research.google.com/github/eoinleen/biochem-general/blob/main/WIP_multiseq_align.ipynb\" target=\"_parent\"><img src=\"https://colab.research.google.com/assets/colab-badge.svg\" alt=\"Open In Colab\"/></a>"
      ]
    },
    {
      "cell_type": "code",
      "execution_count": 6,
      "metadata": {
        "colab": {
          "base_uri": "https://localhost:8080/",
          "height": 927
        },
        "id": "QKoE1EYAZYlY",
        "outputId": "12b79386-d696-46b4-dd08-7097d9a54041"
      },
      "outputs": [
        {
          "output_type": "stream",
          "name": "stdout",
          "text": [
            "Alignment:\n",
            ">sp|P12524|MYCL_HUMAN\n",
            "----------------------------MDYDSYQHYFYDYDCGEDFYR--------STAPSEDIWKKFELVPSPPTSPP\n",
            "WGLGPGAGDPAPGIGPPEPWPGGCTGDEAESRGHSKGWG--------------------------------RNYASIIRR\n",
            "DCMWSGFSARERLERAVSDRLAPG------------APRGNPPKA-SAAPDC---------------TPSLEAGNPAPAA\n",
            "PCPLGE---------------------------------------------------PKTQACSGSESPSDS--------\n",
            "-ENEEIDVVTVEKRQSLGIRKPVT-ITV-----------RADPLDP-CMKHFHISIHQQQHNYAARFPPESCSQEEASER\n",
            "GPQEEVLERDAAGEKEDEEDEEIVSPPPVESEA-AQSCHPKPVSSDTEDVTKRKNHNFLERKRRNDLRSRFLALRDQVPT\n",
            "LASCSKAPKVVILSKALEYLQALVGAEKRMATEKRQLRCRQQQLQKRIAYLTG--Y\n",
            ">sp|P01106|MYC_HUMAN\n",
            "MDFFRVVENQQPPATMPLNVSFTNRNYDLDYDSVQPYFYC-DEEENFYQQQQQSELQPPAPSEDIWKKFELLPTPPLSPS\n",
            "RRSGLCSPSY-VAVTP------------FSLRGDNDGGGGSFSTADQLEMVTELLGGDMVNQSFICDPDDETFIKNIIIQ\n",
            "DCMWSGFSAAAKL---VSEKLASY--------QAARKDSGSPNPA-RGHSVCST----SSLYLQDLSAAASECIDPSVVF\n",
            "PYPLNDSS-SPKSCASQDSSAFSPSSDSLLSSTESSPQGSP-----------------EPLVLHEETPPTTSSD-SEEEQ\n",
            "EDEEEIDVVSVEKRQAPGKRSESG-S-------PSAGGHSKPPHSPLVLKRCHVSTH--QHNYAAP--PSTRKDYPAAKR\n",
            "VKLD--------------------SVRVLRQIS-NNRKCTSPRSSDTEENVKRRTHNVLERQRRNELKRSFFALRDQIPE\n",
            "LENNEKAPKVVILKKATAYILSVQAEEQKLISEEDLLRKRREQLKHKLEQLRNSCA\n",
            ">sp|P04198|MYCN_HUMAN\n",
            "M----------PSCSTSTMPGMICKNPDLEFDSLQPCFYP-DE-DDFYFGGPD----STPPGEDIWKKFELLPTPPLSPS\n",
            "RGFAEHSSEPPSWVTE-------------------------------MLLENELWGSPAEEDAFGLGGLGGLTPNPVILQ\n",
            "DCMWSGFSAREKLERAVSEKLQHGRGPPTAGSTAQSPGAGAASPAGRGHGGAAGAGRAGAALPAELAHPAAECVDPAVVF\n",
            "PFPVNKREPAPVPAAPASAPAAGPAVAS--GAGIAAPAGAPGVAPPRPGGRQTSGGDHKALSTSGEDTLSDSDDEDDEEE\n",
            "DEEEEIDVVTVEKRRSSSNTKAVTTFTITVRPKNAALGPGRAQSSELILKRCLP-IHQ-QHNYAAPSPYVESEDAPPQKK\n",
            "IKSE-------------------ASPRPLKSVIPPKAKSLSPRNSDSEDSERRRNHNILERQRRNDLRSSFLTLRDHVPE\n",
            "LVKNEKAAKVVILKKATEYVHSLQAEEHQLLLEKEKLQARQQQLLKKIEHART--C\n",
            "\n"
          ]
        },
        {
          "output_type": "display_data",
          "data": {
            "text/plain": [
              "<Figure size 640x480 with 1 Axes>"
            ],
            "image/png": "[encoded data removed]"
          },
          "metadata": {}
        }
      ],
      "source": [
        "import requests\n",
        "import time\n",
        "from Bio import SeqIO, Phylo\n",
        "from io import StringIO\n",
        "\n",
        "# Step 1: Importing Libraries\n",
        "# Libraries already imported above\n",
        "\n",
        "# Step 2: Reading FASTA Sequences\n",
        "file_path = \"/content/drive/MyDrive/Fasta-files/myc-fasta.txt\"\n",
        "sequences = list(SeqIO.parse(file_path, \"fasta\"))\n",
        "\n",
        "# Step 3: Submitting Sequences to EBI MUSCLE\n",
        "EBI_MUSCLE_URL = \"https://www.ebi.ac.uk/Tools/services/rest/muscle\"\n",
        "\n",
        "def submit_sequences(sequences):\n",
        "    data = {\n",
        "        \"sequence\": \"\\n\".join([f\">{seq.id}\\n{str(seq.seq)}\" for seq in sequences]),\n",
        "        \"email\": \"your-email@example.com\"\n",
        "    }\n",
        "    response = requests.post(f\"{EBI_MUSCLE_URL}/run\", data=data)\n",
        "    return response.text\n",
        "\n",
        "# Submit sequences\n",
        "job_id = submit_sequences(sequences)\n",
        "\n",
        "# Step 4: Checking Job Status and Retrieving Results\n",
        "def check_status(job_id):\n",
        "    response = requests.get(f\"{EBI_MUSCLE_URL}/status/{job_id}\")\n",
        "    return response.text\n",
        "\n",
        "def get_results(job_id):\n",
        "    response = requests.get(f\"{EBI_MUSCLE_URL}/result/{job_id}/aln-fasta\")\n",
        "    return response.text\n",
        "\n",
        "# Polling the job status\n",
        "while True:\n",
        "    status = check_status(job_id)\n",
        "    if status == \"FINISHED\":\n",
        "        alignment = get_results(job_id)\n",
        "        break\n",
        "    elif status == \"ERROR\":\n",
        "        raise Exception(\"Error in job processing\")\n",
        "    time.sleep(10)  # Wait before re-checking\n",
        "\n",
        "# Save the alignment result\n",
        "with open(\"alignment.fasta\", \"w\") as f:\n",
        "    f.write(alignment)\n",
        "\n",
        "# Print the alignment\n",
        "print(\"Alignment:\")\n",
        "print(alignment)\n",
        "\n",
        "# Step 5: Generating Phylogenetic Tree\n",
        "alignment = list(SeqIO.parse(\"alignment.fasta\", \"fasta\"))\n",
        "alignment_str = \"\".join([f\">{record.id}\\n{record.seq}\\n\" for record in alignment])\n",
        "tree = Phylo.read(StringIO(alignment_str), \"newick\")\n",
        "\n",
        "# Step 6: Visualizing Results\n",
        "Phylo.draw(tree)\n"
      ]
    }
  ]
}